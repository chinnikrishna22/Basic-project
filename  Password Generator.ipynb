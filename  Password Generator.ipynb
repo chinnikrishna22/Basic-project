{
  "nbformat": 4,
  "nbformat_minor": 0,
  "metadata": {
    "colab": {
      "provenance": [],
      "authorship_tag": "ABX9TyN6gDcwBPKwtDrM5nEEpkXR",
      "include_colab_link": true
    },
    "kernelspec": {
      "name": "python3",
      "display_name": "Python 3"
    },
    "language_info": {
      "name": "python"
    }
  },
  "cells": [
    {
      "cell_type": "markdown",
      "metadata": {
        "id": "view-in-github",
        "colab_type": "text"
      },
      "source": [
        "<a href=\"https://colab.research.google.com/github/chinnikrishna22/Basic-project/blob/main/%20Password%20Generator.ipynb\" target=\"_parent\"><img src=\"https://colab.research.google.com/assets/colab-badge.svg\" alt=\"Open In Colab\"/></a>"
      ]
    },
    {
      "cell_type": "code",
      "execution_count": 2,
      "metadata": {
        "colab": {
          "base_uri": "https://localhost:8080/"
        },
        "id": "VzVaFEmsPn0V",
        "outputId": "0aeb564f-43f3-4177-c021-bb2b6251e296"
      },
      "outputs": [
        {
          "output_type": "stream",
          "name": "stdout",
          "text": [
            "How many passwords do you want to generate? 15\n",
            "Enter the minimum length of passwords: 5\n",
            "Password 1: e;_A/6s\n",
            "Password 2: }!56CgD^\n",
            "Password 3: ~lCp.P9^{\n",
            "Password 4: mJU_yqaj4?\n",
            "Password 5: /)\"u#G7x\n",
            "Password 6: V5~<6w[5\n",
            "Password 7: 1.IegHj49#\n",
            "Password 8: T!ZI0CeH\n",
            "Password 9: ]G#>^l.1\n",
            "Password 10: \"3kEl]\n",
            "Password 11: zF-6_\n",
            "Password 12: ^G'{9j\n",
            "Password 13: g_2k&p_Zx\n",
            "Password 14: ZA]g,1_*\n",
            "Password 15: +Vy5h\n"
          ]
        }
      ],
      "source": [
        "import random\n",
        "import string\n",
        "\n",
        "def generate_password(length=12):\n",
        "    \"\"\"Generate a strong and secure password.\"\"\"\n",
        "    lowercase_letters = string.ascii_lowercase\n",
        "    uppercase_letters = string.ascii_uppercase\n",
        "    digits = string.digits\n",
        "    special_characters = string.punctuation\n",
        "\n",
        "    # Combine all character sets\n",
        "    all_characters = lowercase_letters + uppercase_letters + digits + special_characters\n",
        "\n",
        "    # Ensure at least one character from each set\n",
        "    password = random.choice(lowercase_letters)\n",
        "    password += random.choice(uppercase_letters)\n",
        "    password += random.choice(digits)\n",
        "    password += random.choice(special_characters)\n",
        "\n",
        "    # Generate remaining characters\n",
        "    for _ in range(length - 4):\n",
        "        password += random.choice(all_characters)\n",
        "\n",
        "    # Shuffle the password to increase randomness\n",
        "    password_list = list(password)\n",
        "    random.shuffle(password_list)\n",
        "    password = ''.join(password_list)\n",
        "\n",
        "    return password\n",
        "\n",
        "def generate_multiple_passwords(num_passwords, min_length=12):\n",
        "    \"\"\"Generate multiple strong and secure passwords.\"\"\"\n",
        "    passwords = []\n",
        "    for _ in range(num_passwords):\n",
        "        length = random.randint(min_length, min_length + 5)  # Randomize length slightly\n",
        "        password = generate_password(length)\n",
        "        passwords.append(password)\n",
        "    return passwords\n",
        "\n",
        "if __name__ == \"__main__\":\n",
        "    num_passwords = int(input(\"How many passwords do you want to generate? \"))\n",
        "    min_length = int(input(\"Enter the minimum length of passwords: \"))\n",
        "    passwords = generate_multiple_passwords(num_passwords, min_length)\n",
        "\n",
        "    # Output the passwords\n",
        "    for i, password in enumerate(passwords, start=1):\n",
        "        print(f\"Password {i}: {password}\")\n"
      ]
    }
  ]
}